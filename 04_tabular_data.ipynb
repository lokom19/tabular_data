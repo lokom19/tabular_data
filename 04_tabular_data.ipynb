{
 "cells": [
  {
   "cell_type": "code",
   "execution_count": 278,
   "id": "8bede8d7",
   "metadata": {},
   "outputs": [
    {
     "name": "stdout",
     "output_type": "stream",
     "text": [
      "Defaulting to user installation because normal site-packages is not writeable\n",
      "Requirement already satisfied: xlwings in c:\\programdata\\anaconda3\\lib\\site-packages (0.24.9)\n",
      "Requirement already satisfied: pywin32>=224 in c:\\programdata\\anaconda3\\lib\\site-packages (from xlwings) (302)\n",
      "Defaulting to user installation because normal site-packages is not writeable\n",
      "Requirement already satisfied: xlsxwriter in c:\\programdata\\anaconda3\\lib\\site-packages (3.0.3)\n"
     ]
    }
   ],
   "source": [
    "! pip install xlwings \n",
    "! pip install xlsxwriter \n",
    "import xlsxwriter\n",
    "import xlwings as xw\n",
    "import numpy as np\n",
    "import pandas as pd"
   ]
  },
  {
   "cell_type": "code",
   "execution_count": 279,
   "id": "8e7f8aa5",
   "metadata": {},
   "outputs": [],
   "source": [
    "workbook  = xlsxwriter.Workbook('recipes_model.xlsx')\n",
    "worksheet = workbook.add_worksheet('Модель')\n",
    "\n",
    "columns  = [\"Сущность\", \"Атрибут\", \"Тип данных\", \"Обязательно к заполнению\", \"Описание сущности\", \"Описание атрибута\", \"Ключ\", \"Таблица для ссылки\", \"Поле для ссылки\", \"SQL\"]\n",
    "\n",
    "for i in range(len(columns)):\n",
    "    worksheet.write(0, i, columns[i])\n",
    "\n",
    "    \n",
    "#workbook.close()"
   ]
  },
  {
   "cell_type": "code",
   "execution_count": 280,
   "id": "66c94278",
   "metadata": {},
   "outputs": [],
   "source": [
    "format1 = workbook.add_format({'bg_color':   '#006600',\n",
    "                               'font_color': '#fffff'})\n",
    "format2 = workbook.add_format({'bg_color':   '#cccc00',\n",
    "                               'font_color': '#000000'})\n",
    "worksheet.conditional_format('G2:G50', {'type':     'text',\n",
    "                                              'criteria': 'containing',\n",
    "                                              'value':    'PK',\n",
    "                                              'format':   format1})\n",
    "worksheet.conditional_format('G2:G50', {'type':     'text',\n",
    "                                              'criteria': 'containing',\n",
    "                                              'value':    'FK',\n",
    "                                              'format':   format2})\n",
    "\n",
    "workbook.close()"
   ]
  },
  {
   "cell_type": "code",
   "execution_count": 281,
   "id": "41881402",
   "metadata": {},
   "outputs": [
    {
     "data": {
      "text/plain": [
       "[['recipe',\n",
       "  'name',\n",
       "  'varchar(100)',\n",
       "  'Y',\n",
       "  'Рецепт',\n",
       "  'Название рецепта',\n",
       "  '',\n",
       "  '',\n",
       "  ''],\n",
       " ['recipe', 'id', 'serial', 'N', 'Рецепт', 'ID рецепта', 'PK', '', ''],\n",
       " ['recipe',\n",
       "  'minutes',\n",
       "  'int',\n",
       "  'Y',\n",
       "  'Рецепт',\n",
       "  'Длительность выполнения в минутах',\n",
       "  '',\n",
       "  '',\n",
       "  ''],\n",
       " ['recipe',\n",
       "  'contributor_id',\n",
       "  'int',\n",
       "  'Y',\n",
       "  'Рецепт',\n",
       "  'ID автора рецепта',\n",
       "  'FK',\n",
       "  'user',\n",
       "  'id'],\n",
       " ['recipe',\n",
       "  'submitted',\n",
       "  'timestamp',\n",
       "  'Y',\n",
       "  'Рецепт',\n",
       "  'Дата добавления',\n",
       "  '',\n",
       "  '',\n",
       "  ''],\n",
       " ['recipe',\n",
       "  'n_steps',\n",
       "  'int',\n",
       "  'N',\n",
       "  'Рецепт',\n",
       "  'Кол-во шагов рецепта',\n",
       "  '',\n",
       "  '',\n",
       "  ''],\n",
       " ['recipe',\n",
       "  'description',\n",
       "  'text',\n",
       "  'N',\n",
       "  'Рецепт',\n",
       "  'Описание рецепта',\n",
       "  '',\n",
       "  '',\n",
       "  ''],\n",
       " ['recipe',\n",
       "  'n_ingredients',\n",
       "  'int',\n",
       "  'N',\n",
       "  'Рецепт',\n",
       "  'Кол-во ингредиентов в рецепта',\n",
       "  '',\n",
       "  '',\n",
       "  ''],\n",
       " ['review', 'id', 'serial', 'Y', 'Отзыв', 'ID отзыва', 'PK', '', ''],\n",
       " ['review', 'user_id', 'int', 'Y', 'Отзыв', 'ID автора отзыва', 'FK', '', ''],\n",
       " ['review',\n",
       "  'recipe_id',\n",
       "  'int',\n",
       "  'Y',\n",
       "  'Отзыв',\n",
       "  'ID рецепта',\n",
       "  'FK',\n",
       "  'recipe',\n",
       "  'id'],\n",
       " ['review',\n",
       "  'date',\n",
       "  'timestamp',\n",
       "  'Y',\n",
       "  'Отзыв',\n",
       "  'Дата добавления отзыва',\n",
       "  '',\n",
       "  '',\n",
       "  ''],\n",
       " ['review', 'rating', 'int', 'Y', 'Отзыв', 'Рейтинг отзыва', '', '', ''],\n",
       " ['review',\n",
       "  'review',\n",
       "  'test',\n",
       "  'N',\n",
       "  'Отзыв',\n",
       "  'Текстовое описание отзыва',\n",
       "  '',\n",
       "  '',\n",
       "  ''],\n",
       " ['user',\n",
       "  'id',\n",
       "  'serial',\n",
       "  'Y',\n",
       "  'Пользователь',\n",
       "  'ID пользователя',\n",
       "  'PK',\n",
       "  '',\n",
       "  ''],\n",
       " ['user',\n",
       "  'login',\n",
       "  'varchar(20)',\n",
       "  'Y',\n",
       "  'Пользователь',\n",
       "  'Логин пользователя',\n",
       "  '',\n",
       "  '',\n",
       "  ''],\n",
       " ['user',\n",
       "  'registered',\n",
       "  'timestamp',\n",
       "  'Y',\n",
       "  'Пользователь',\n",
       "  'Дата регистрации пользователя',\n",
       "  '',\n",
       "  '',\n",
       "  '']]"
      ]
     },
     "execution_count": 281,
     "metadata": {},
     "output_type": "execute_result"
    }
   ],
   "source": [
    "import csv\n",
    "with open(\"recipes_model (1).csv\", \"r\", encoding=\"utf8\") as fp:\n",
    "    ff = csv.reader(fp, delimiter=\"\\t\")\n",
    "#     for row in ff:\n",
    "#         print(row)\n",
    "    a =  list(ff)    \n",
    "a    "
   ]
  },
  {
   "cell_type": "code",
   "execution_count": 282,
   "id": "2b5cdd0b",
   "metadata": {},
   "outputs": [],
   "source": [
    "import xlwings as xw\n",
    "\n",
    "workbook  = xw.Book('recipes_model.xlsx')\n",
    "worksheet = workbook.sheets[\"Модель\"]\n",
    "worksheet.range('A2').value  = a"
   ]
  },
  {
   "cell_type": "code",
   "execution_count": null,
   "id": "0821ffb2",
   "metadata": {},
   "outputs": [],
   "source": []
  },
  {
   "cell_type": "code",
   "execution_count": 283,
   "id": "65191074",
   "metadata": {},
   "outputs": [],
   "source": [
    "worksheet.range(f\"J2:J{len(a)+1}\").formula = '=CONCATENATE(B2, \" \", UPPER(C2), IF(G2=\"PK\", \" PRIMARY KEY\", \\\n",
    "                                                            IF(G2=\"FK\", CONCATENATE(\" REFERENCES \", H2, \"(\", I2, \")\"), \"\")), \\\n",
    "                                                            IF(AND(D2=\"Y\", G2<>\"PK\"), \" NOT NULL\", \"\"))'"
   ]
  },
  {
   "cell_type": "markdown",
   "id": "7a38e2dd",
   "metadata": {},
   "source": [
    "При помощи пакета xlwings измените стилизацию листа Модель.\n",
    "для заголовков добавьте заливку цвета 00ccff\n",
    "примените автоподбор ширины столбца;\n",
    "сделайте шрифт заголовков полужирным;\n",
    "добавьте таблице автофильтр.\n",
    "Сделайте скриншот текущего состояния листа и прикрепите в ячейку ноутбука."
   ]
  },
  {
   "cell_type": "code",
   "execution_count": 284,
   "id": "e330dc26",
   "metadata": {},
   "outputs": [
    {
     "data": {
      "text/plain": [
       "True"
      ]
     },
     "execution_count": 284,
     "metadata": {},
     "output_type": "execute_result"
    }
   ],
   "source": [
    "worksheet.range(\"A1:J1\").color = \"00ccff\"\n",
    "worksheet.autofit(axis=\"columns\")\n",
    "worksheet['A1'].api.AutoFilter(Field=1)"
   ]
  },
  {
   "cell_type": "markdown",
   "id": "c8e492f8",
   "metadata": {},
   "source": [
    "В данных, полученных из файла recipes_model.csv, имеются ошибки двух видов:\n",
    "\n",
    "1. Для некоторых полей, указанных как первичный ключ, в столбце \"Обязательно к заполнению\" стоит значение \"N\";\n",
    "\n",
    "2. Для некоторых полей, указанных как внешний ключ, не указана таблица для ссылки и поле для ссылки.\n",
    "\n",
    "Получите данные из листа в виде pd.DataFrame. Найдите строки на листе, которые содержат ошибки первого или второго рода и сделайте заливку эти строк цвета (255, 102, 102). Сделайте скриншот текущего состояния листа и прикрепите в ячейку ноутбука."
   ]
  },
  {
   "cell_type": "code",
   "execution_count": 346,
   "id": "c519d075",
   "metadata": {},
   "outputs": [],
   "source": [
    "aa = worksheet.range('A1:J18').value\n",
    "df1 = pd.DataFrame(aa)\n",
    "df1.columns = df1.iloc[0]\n",
    "df1 = df1.drop(labels = [0], axis = 0)\n",
    "type1Error = (df1['Ключ'] == 'PK') & (df1['Обязательно к заполнению'] == 'N')\n",
    "type2Error = (df1['Ключ'] == \"FK\") & ((df1['Таблица для ссылки'].isnull()) | (df1['Поле для ссылки'].isnull()))\n",
    "\n",
    "q1 = (str((df1[type2Error].index[0]))).split(',')\n",
    "q2 = list(str((df1[type1Error].index[0])))\n",
    "some_rgb_vale = (255, 102, 102)\n",
    "for i in q1:\n",
    "    worksheet.range(f'A{int(i)}:J{int(i)}').color = some_rgb_vale\n",
    "for j in q2:\n",
    "    worksheet.range(f'A{int(j)}:J{int(j)}').color = some_rgb_vale"
   ]
  },
  {
   "cell_type": "code",
   "execution_count": null,
   "id": "7a9bb7b7",
   "metadata": {},
   "outputs": [],
   "source": []
  },
  {
   "cell_type": "markdown",
   "id": "527918ad",
   "metadata": {},
   "source": [
    "При помощи пакета xlwings создайте лист с названием Ошибки заполнения.\n",
    "Поместите в первой строчке этого листа заголовки \"№ строки\" и \"Ошибка\". Заполните лист на основе решения задачи 6. В столбце \"№ строки\" укажите номер строки с листа Модель, содержащую ошибку, а в столбце \"Ошибка\" для ошибок первого рода напишите сообщение \"Первичный ключ не может быть NULL\", для ошибок второго рода - \"Не указано поле для связи по внешнему ключу\". Сделайте скриншот состояния листа Ошибки заполнения и прикрепите в ячейку ноутбука."
   ]
  },
  {
   "cell_type": "code",
   "execution_count": 347,
   "id": "2bbc3ed1",
   "metadata": {},
   "outputs": [],
   "source": [
    "worksheet_new = workbook.sheets.add(name=\"Ошибки заполнения\")"
   ]
  },
  {
   "cell_type": "code",
   "execution_count": 348,
   "id": "9f392637",
   "metadata": {},
   "outputs": [],
   "source": [
    "worksheet_new.range('A1').value = [\"№ строки\", \"Ошибка\"]"
   ]
  },
  {
   "cell_type": "code",
   "execution_count": 355,
   "id": "b768550d",
   "metadata": {},
   "outputs": [],
   "source": [
    "a = 0\n",
    "b = 0\n",
    "for i in q2:\n",
    "    worksheet_new.range(f'A{2+a}:B{2+a}').value = [i, 'Первичный ключ не может быть NULL']\n",
    "    a += 1 \n",
    "for i in q1:\n",
    "    worksheet_new.range(f'A{2+a}:B{2+a}').value = [i, 'Не указано поле для связи по внешнему ключу']\n",
    "    a += 1 "
   ]
  },
  {
   "cell_type": "markdown",
   "id": "981658e3",
   "metadata": {},
   "source": [
    "8. Посчитайте количество атрибутов для каждой из сущностей. Создайте лист `Статистика` и запишите в него результат группировки, начиная с ячейки \"А1\". Визуализируйте полученный результат при помощи столбчатой диаграммы. Сохраните полученную визуализацию на лист `Статистика`, начиная с ячейки \"E2\".  Сделайте скриншот листа `Статистика` и прикрепите в ячейку ноутбука.\n",
    "\n",
    "* Вы можете воспользоваться методами для визуализации, которые поставляются вместе с объектами `pandas` (см. https://pandas.pydata.org/docs/reference/api/pandas.DataFrame.plot) "
   ]
  },
  {
   "cell_type": "code",
   "execution_count": 368,
   "id": "0a379ce1",
   "metadata": {},
   "outputs": [],
   "source": [
    "df1.groupby('Сущность')['Атрибут'].count()\n",
    "worksheet_new3 = workbook.sheets.add(name='Статичтика')\n",
    "worksheet_new3.range('A1').value = df1.groupby('Сущность')['Атрибут'].count()"
   ]
  },
  {
   "cell_type": "code",
   "execution_count": 402,
   "id": "26f1047b",
   "metadata": {},
   "outputs": [
    {
     "data": {
      "text/plain": [
       "<Picture 'BarDiag' in <Sheet [recipes_model.xlsx]Статичтика>>"
      ]
     },
     "execution_count": 402,
     "metadata": {},
     "output_type": "execute_result"
    }
   ],
   "source": [
    "import matplotlib.pyplot as plt\n",
    "import xlwings as xw\n",
    "plt_ = plt.figure()\n",
    "y = df1.groupby('Сущность')['Атрибут'].count()\n",
    "list(y)\n",
    "x = y.index\n",
    "x\n",
    "plt.bar(x, y)\n",
    "plt_\n",
    "\n",
    "worksheet_new3.pictures.add(plt_, name='BarDiag', left=worksheet_new3.range('G15').left)"
   ]
  }
 ],
 "metadata": {
  "kernelspec": {
   "display_name": "Python 3 (ipykernel)",
   "language": "python",
   "name": "python3"
  },
  "language_info": {
   "codemirror_mode": {
    "name": "ipython",
    "version": 3
   },
   "file_extension": ".py",
   "mimetype": "text/x-python",
   "name": "python",
   "nbconvert_exporter": "python",
   "pygments_lexer": "ipython3",
   "version": "3.9.12"
  }
 },
 "nbformat": 4,
 "nbformat_minor": 5
}
